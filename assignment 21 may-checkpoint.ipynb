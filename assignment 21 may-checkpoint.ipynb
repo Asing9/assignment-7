{
 "cells": [
  {
   "cell_type": "code",
   "execution_count": null,
   "id": "5bbe2d24",
   "metadata": {},
   "outputs": [],
   "source": [
    "Q.1. Create two int type variables, apply addition, subtraction, division and multiplications\n",
    "and store the results in variables. Then print the data in the following format by calling the\n",
    "variables:\n",
    "    \n",
    "    First variable is __ & second variable is __.\n",
    "Addition: __ + __ = __\n",
    "Subtraction: __ - __ = __\n",
    "Multiplication: __ * __ = __\n",
    "Division: __ / __ = __"
   ]
  },
  {
   "cell_type": "code",
   "execution_count": 6,
   "id": "cce6d3b0",
   "metadata": {},
   "outputs": [
    {
     "name": "stdout",
     "output_type": "stream",
     "text": [
      "First variable is :  25  and Second variable is : 5\n",
      "Addition :  25 + 5 = 30\n",
      "Subtraction :  25 - 5 = 20\n",
      "Multiplication :  25 * 5 = 125\n",
      "Division :  25 / 5 = 5.0\n"
     ]
    }
   ],
   "source": [
    "a , b = 25 , 5\n",
    "\n",
    "print(\"First variable is : \", a,\" and Second variable is :\", b)\n",
    "print (\"Addition : \",a,'+',b,'=',a+b)\n",
    "print (\"Subtraction : \",a,'-',b,'=',a-b)\n",
    "print (\"Multiplication : \",a,'*',b,'=',a*b)\n",
    "print (\"Division : \",a,'/',b,'=',a/b)"
   ]
  },
  {
   "cell_type": "code",
   "execution_count": null,
   "id": "edb35cea",
   "metadata": {},
   "outputs": [],
   "source": [
    "Q.2. What is the difference between the following operators:\n",
    "(i) ‘/’ & ‘//’\n",
    "(ii) ‘**’ & ‘^"
   ]
  },
  {
   "cell_type": "code",
   "execution_count": null,
   "id": "111c95cb",
   "metadata": {},
   "outputs": [],
   "source": [
    "'/'  = division\n",
    "'//' = floor division the result of floor division is in integer value, not in float value\n",
    "'**' = Exponentiation , power of any number like 5**2 = 25\n",
    "'^' = XOR bitwise operator"
   ]
  },
  {
   "cell_type": "code",
   "execution_count": 13,
   "id": "1171a90c",
   "metadata": {},
   "outputs": [
    {
     "name": "stdout",
     "output_type": "stream",
     "text": [
      "0b1010\n",
      "0b1000\n",
      "8 0b1000\n",
      "10 0b1010\n",
      "2 0b10\n"
     ]
    }
   ],
   "source": [
    "x,y = 10,8\n",
    "print(bin(x))\n",
    "print(bin(y))\n",
    "print(x&y,bin(x&y))\n",
    "print(x|y,bin(x|y))\n",
    "print(x^y,bin(x^y))"
   ]
  },
  {
   "cell_type": "code",
   "execution_count": null,
   "id": "ed189427",
   "metadata": {},
   "outputs": [],
   "source": [
    "Q.3. List the logical operators.\n"
   ]
  },
  {
   "cell_type": "code",
   "execution_count": null,
   "id": "f8934171",
   "metadata": {},
   "outputs": [],
   "source": [
    "3 types of logical operators (and , or , not)"
   ]
  },
  {
   "cell_type": "code",
   "execution_count": null,
   "id": "0ee5aa5b",
   "metadata": {},
   "outputs": [],
   "source": [
    "Q.4. Explain right shift operator and left shift operator with examples.\n"
   ]
  },
  {
   "cell_type": "code",
   "execution_count": 38,
   "id": "a477f79f",
   "metadata": {},
   "outputs": [
    {
     "name": "stdout",
     "output_type": "stream",
     "text": [
      "0b1010\n",
      "a>>1 :  5\n",
      "b>>1: -5\n"
     ]
    }
   ],
   "source": [
    "#right shift operator\n",
    "a=10\n",
    "b=-10\n",
    "print(bin(a))\n",
    "print('a>>1 : ',a >> 1)\n",
    "print('b>>1:',b >> 1)"
   ]
  },
  {
   "cell_type": "code",
   "execution_count": 39,
   "id": "cf88199e",
   "metadata": {},
   "outputs": [
    {
     "name": "stdout",
     "output_type": "stream",
     "text": [
      "a<<1 :  10\n",
      "b<<1 :  -20\n"
     ]
    }
   ],
   "source": [
    "#left shift operators\n",
    "a=5\n",
    "b=-10\n",
    "print('a<<1 : ',a<<1)\n",
    "print('b<<1 : ',b<<1)"
   ]
  },
  {
   "cell_type": "code",
   "execution_count": null,
   "id": "9bc3b194",
   "metadata": {},
   "outputs": [],
   "source": []
  },
  {
   "cell_type": "code",
   "execution_count": null,
   "id": "ed8f40d6",
   "metadata": {},
   "outputs": [],
   "source": [
    "Q.5. Create a list containing int type data of length 15. Then write a code to check if 10 is\n",
    "present in the list or not"
   ]
  },
  {
   "cell_type": "code",
   "execution_count": 26,
   "id": "b53b559e",
   "metadata": {},
   "outputs": [
    {
     "name": "stdout",
     "output_type": "stream",
     "text": [
      "10 is present in list\n"
     ]
    }
   ],
   "source": [
    "a=[1,2,3,4,5,6,7,8,9,10,11,12,13,14,15]\n",
    "\n",
    "for i in a:\n",
    "    \n",
    "    if i==10:\n",
    "        print(\"10 is present in list\")\n",
    "    "
   ]
  },
  {
   "cell_type": "code",
   "execution_count": null,
   "id": "db0ff8ac",
   "metadata": {},
   "outputs": [],
   "source": []
  },
  {
   "cell_type": "code",
   "execution_count": null,
   "id": "09102042",
   "metadata": {},
   "outputs": [],
   "source": []
  }
 ],
 "metadata": {
  "kernelspec": {
   "display_name": "Python 3 (ipykernel)",
   "language": "python",
   "name": "python3"
  },
  "language_info": {
   "codemirror_mode": {
    "name": "ipython",
    "version": 3
   },
   "file_extension": ".py",
   "mimetype": "text/x-python",
   "name": "python",
   "nbconvert_exporter": "python",
   "pygments_lexer": "ipython3",
   "version": "3.10.9"
  }
 },
 "nbformat": 4,
 "nbformat_minor": 5
}
